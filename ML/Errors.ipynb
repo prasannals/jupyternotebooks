{
 "cells": [
  {
   "cell_type": "markdown",
   "metadata": {},
   "source": [
    "# learning curves\n",
    "http://scikit-learn.org/stable/auto_examples/model_selection/plot_learning_curve.html\n",
    "\n",
    "Learning Curves\n",
    "\n",
    "A learning curve in machine learning is a graph that compares the performance of a model on training and testing data over a varying number of training instances.\n",
    "\n",
    "When we look at the relationship between the amount of training data and performance, we should generally see performance improve as the number of training points increases.\n",
    "\n",
    "By separating training and testing sets and graphing performance on each separately, we can get a better idea of how well the model can generalize to unseen data.\n",
    "\n",
    "A learning curve allows us to verify when a model has learned as much as it can about the data. When this occurs, the performance on both training and testing sets plateau and there is a consistent gap between the two error rates."
   ]
  },
  {
   "cell_type": "markdown",
   "metadata": {},
   "source": [
    "#### Bias\n",
    "When the training and testing errors converge and are quite high this usually means the model is biased. No matter how much data we feed it, the model cannot represent the underlying relationship and therefore has systematic high errors.\n",
    "\n",
    "#### Variance\n",
    "When there is a large gap between the training and testing error this generally means the model suffers from high variance. Unlike a biased model, models that suffer from variance generally require more data to improve. We can also limit variance by simplifying the model to represent only the most important features of the data."
   ]
  },
  {
   "cell_type": "markdown",
   "metadata": {},
   "source": [
    "## Plotting Model Complexity\n",
    "http://scikit-learn.org/stable/modules/learning_curve.html\n",
    "\n",
    "#### So what is the relationship between learning curves and model complexity?\n",
    "\n",
    "If we were to take the learning curves of the same machine learning algorithm with the same fixed set of data, but create several graphs at different levels of model complexity, all the learning curve graphs would fit together into a 3D model complexity graph."
   ]
  },
  {
   "cell_type": "markdown",
   "metadata": {},
   "source": [
    "## Curse of dimensionality \n",
    "\n",
    "As you add more features, the data that you need to generalize well increases exponentially.\n",
    "\n",
    "So, you're better of giving your model more data than more dimensions. As you increase the dimensions, it gets harder and harder to actually fit it right."
   ]
  },
  {
   "cell_type": "code",
   "execution_count": null,
   "metadata": {
    "collapsed": true
   },
   "outputs": [],
   "source": []
  }
 ],
 "metadata": {
  "kernelspec": {
   "display_name": "Python 2",
   "language": "python",
   "name": "python2"
  },
  "language_info": {
   "codemirror_mode": {
    "name": "ipython",
    "version": 2
   },
   "file_extension": ".py",
   "mimetype": "text/x-python",
   "name": "python",
   "nbconvert_exporter": "python",
   "pygments_lexer": "ipython2",
   "version": "2.7.12"
  }
 },
 "nbformat": 4,
 "nbformat_minor": 0
}
