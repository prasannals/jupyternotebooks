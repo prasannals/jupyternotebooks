{
 "cells": [
  {
   "cell_type": "code",
   "execution_count": 1,
   "metadata": {
    "collapsed": true
   },
   "outputs": [],
   "source": [
    "from sklearn import datasets\n",
    "import pandas as pd\n",
    "import numpy as np"
   ]
  },
  {
   "cell_type": "code",
   "execution_count": 2,
   "metadata": {
    "collapsed": false
   },
   "outputs": [],
   "source": [
    "breastCancer = datasets.load_breast_cancer()"
   ]
  },
  {
   "cell_type": "code",
   "execution_count": 3,
   "metadata": {
    "collapsed": false
   },
   "outputs": [
    {
     "name": "stdout",
     "output_type": "stream",
     "text": [
      "Breast Cancer Wisconsin (Diagnostic) Database\n",
      "\n",
      "Notes\n",
      "-----\n",
      "Data Set Characteristics:\n",
      "    :Number of Instances: 569\n",
      "\n",
      "    :Number of Attributes: 30 numeric, predictive attributes and the class\n",
      "\n",
      "    :Attribute Information:\n",
      "        - radius (mean of distances from center to points on the perimeter)\n",
      "        - texture (standard deviation of gray-scale values)\n",
      "        - perimeter\n",
      "        - area\n",
      "        - smoothness (local variation in radius lengths)\n",
      "        - compactness (perimeter^2 / area - 1.0)\n",
      "        - concavity (severity of concave portions of the contour)\n",
      "        - concave points (number of concave portions of the contour)\n",
      "        - symmetry \n",
      "        - fractal dimension (\"coastline approximation\" - 1)\n",
      "        \n",
      "        The mean, standard error, and \"worst\" or largest (mean of the three\n",
      "        largest values) of these features were computed for each image,\n",
      "        resulting in 30 features.  For instance, field 3 is Mean Radius, field\n",
      "        13 is Radius SE, field 23 is Worst Radius.\n",
      "        \n",
      "        - class:\n",
      "                - WDBC-Malignant\n",
      "                - WDBC-Benign\n",
      "\n",
      "    :Summary Statistics:\n",
      "\n",
      "    ===================================== ======= ========\n",
      "                                           Min     Max\n",
      "    ===================================== ======= ========\n",
      "    radius (mean):                         6.981   28.11\n",
      "    texture (mean):                        9.71    39.28\n",
      "    perimeter (mean):                      43.79   188.5\n",
      "    area (mean):                           143.5   2501.0\n",
      "    smoothness (mean):                     0.053   0.163\n",
      "    compactness (mean):                    0.019   0.345\n",
      "    concavity (mean):                      0.0     0.427\n",
      "    concave points (mean):                 0.0     0.201\n",
      "    symmetry (mean):                       0.106   0.304\n",
      "    fractal dimension (mean):              0.05    0.097\n",
      "    radius (standard error):               0.112   2.873\n",
      "    texture (standard error):              0.36    4.885\n",
      "    perimeter (standard error):            0.757   21.98\n",
      "    area (standard error):                 6.802   542.2\n",
      "    smoothness (standard error):           0.002   0.031\n",
      "    compactness (standard error):          0.002   0.135\n",
      "    concavity (standard error):            0.0     0.396\n",
      "    concave points (standard error):       0.0     0.053\n",
      "    symmetry (standard error):             0.008   0.079\n",
      "    fractal dimension (standard error):    0.001   0.03\n",
      "    radius (worst):                        7.93    36.04\n",
      "    texture (worst):                       12.02   49.54\n",
      "    perimeter (worst):                     50.41   251.2\n",
      "    area (worst):                          185.2   4254.0\n",
      "    smoothness (worst):                    0.071   0.223\n",
      "    compactness (worst):                   0.027   1.058\n",
      "    concavity (worst):                     0.0     1.252\n",
      "    concave points (worst):                0.0     0.291\n",
      "    symmetry (worst):                      0.156   0.664\n",
      "    fractal dimension (worst):             0.055   0.208\n",
      "    ===================================== ======= ========\n",
      "\n",
      "    :Missing Attribute Values: None\n",
      "\n",
      "    :Class Distribution: 212 - Malignant, 357 - Benign\n",
      "\n",
      "    :Creator:  Dr. William H. Wolberg, W. Nick Street, Olvi L. Mangasarian\n",
      "\n",
      "    :Donor: Nick Street\n",
      "\n",
      "    :Date: November, 1995\n",
      "\n",
      "This is a copy of UCI ML Breast Cancer Wisconsin (Diagnostic) datasets.\n",
      "https://goo.gl/U2Uwz2\n",
      "\n",
      "Features are computed from a digitized image of a fine needle\n",
      "aspirate (FNA) of a breast mass.  They describe\n",
      "characteristics of the cell nuclei present in the image.\n",
      "A few of the images can be found at\n",
      "http://www.cs.wisc.edu/~street/images/\n",
      "\n",
      "Separating plane described above was obtained using\n",
      "Multisurface Method-Tree (MSM-T) [K. P. Bennett, \"Decision Tree\n",
      "Construction Via Linear Programming.\" Proceedings of the 4th\n",
      "Midwest Artificial Intelligence and Cognitive Science Society,\n",
      "pp. 97-101, 1992], a classification method which uses linear\n",
      "programming to construct a decision tree.  Relevant features\n",
      "were selected using an exhaustive search in the space of 1-4\n",
      "features and 1-3 separating planes.\n",
      "\n",
      "The actual linear program used to obtain the separating plane\n",
      "in the 3-dimensional space is that described in:\n",
      "[K. P. Bennett and O. L. Mangasarian: \"Robust Linear\n",
      "Programming Discrimination of Two Linearly Inseparable Sets\",\n",
      "Optimization Methods and Software 1, 1992, 23-34].\n",
      "\n",
      "This database is also available through the UW CS ftp server:\n",
      "\n",
      "ftp ftp.cs.wisc.edu\n",
      "cd math-prog/cpo-dataset/machine-learn/WDBC/\n",
      "\n",
      "References\n",
      "----------\n",
      "   - W.N. Street, W.H. Wolberg and O.L. Mangasarian. Nuclear feature extraction \n",
      "     for breast tumor diagnosis. IS&T/SPIE 1993 International Symposium on \n",
      "     Electronic Imaging: Science and Technology, volume 1905, pages 861-870, \n",
      "     San Jose, CA, 1993. \n",
      "   - O.L. Mangasarian, W.N. Street and W.H. Wolberg. Breast cancer diagnosis and \n",
      "     prognosis via linear programming. Operations Research, 43(4), pages 570-577, \n",
      "     July-August 1995.\n",
      "   - W.H. Wolberg, W.N. Street, and O.L. Mangasarian. Machine learning techniques\n",
      "     to diagnose breast cancer from fine-needle aspirates. Cancer Letters 77 (1994) \n",
      "     163-171.\n",
      "\n"
     ]
    }
   ],
   "source": [
    "for line in breastCancer['DESCR'].split('\\n'):\n",
    "    print(line)"
   ]
  },
  {
   "cell_type": "code",
   "execution_count": null,
   "metadata": {
    "collapsed": true
   },
   "outputs": [],
   "source": []
  },
  {
   "cell_type": "code",
   "execution_count": 4,
   "metadata": {
    "collapsed": true
   },
   "outputs": [],
   "source": [
    "import simplere"
   ]
  },
  {
   "cell_type": "code",
   "execution_count": 5,
   "metadata": {
    "collapsed": false
   },
   "outputs": [],
   "source": [
    "descStr = breastCancer['DESCR']"
   ]
  },
  {
   "cell_type": "code",
   "execution_count": 6,
   "metadata": {
    "collapsed": false
   },
   "outputs": [],
   "source": [
    "params, _, __ = simplere.match(descStr, r'==(.|\\n)*==')[0]"
   ]
  },
  {
   "cell_type": "code",
   "execution_count": 7,
   "metadata": {
    "collapsed": false
   },
   "outputs": [],
   "source": [
    "params = simplere.match(params, r'[a-zA-Z)( ]+:')\n",
    "params = [s[0].strip() for s in params]\n",
    "params = [s[:-1] for s in params]"
   ]
  },
  {
   "cell_type": "code",
   "execution_count": null,
   "metadata": {
    "collapsed": true
   },
   "outputs": [],
   "source": []
  },
  {
   "cell_type": "code",
   "execution_count": 10,
   "metadata": {
    "collapsed": false
   },
   "outputs": [],
   "source": [
    "X = pd.DataFrame(breastCancer.data, columns=params)\n",
    "y = pd.DataFrame(breastCancer.target, columns=['y'])"
   ]
  },
  {
   "cell_type": "code",
   "execution_count": 11,
   "metadata": {
    "collapsed": false
   },
   "outputs": [
    {
     "data": {
      "text/html": [
       "<div>\n",
       "<table border=\"1\" class=\"dataframe\">\n",
       "  <thead>\n",
       "    <tr style=\"text-align: right;\">\n",
       "      <th></th>\n",
       "      <th>radius (mean)</th>\n",
       "      <th>texture (mean)</th>\n",
       "      <th>perimeter (mean)</th>\n",
       "      <th>area (mean)</th>\n",
       "      <th>smoothness (mean)</th>\n",
       "      <th>compactness (mean)</th>\n",
       "      <th>concavity (mean)</th>\n",
       "      <th>concave points (mean)</th>\n",
       "      <th>symmetry (mean)</th>\n",
       "      <th>fractal dimension (mean)</th>\n",
       "      <th>...</th>\n",
       "      <th>radius (worst)</th>\n",
       "      <th>texture (worst)</th>\n",
       "      <th>perimeter (worst)</th>\n",
       "      <th>area (worst)</th>\n",
       "      <th>smoothness (worst)</th>\n",
       "      <th>compactness (worst)</th>\n",
       "      <th>concavity (worst)</th>\n",
       "      <th>concave points (worst)</th>\n",
       "      <th>symmetry (worst)</th>\n",
       "      <th>fractal dimension (worst)</th>\n",
       "    </tr>\n",
       "  </thead>\n",
       "  <tbody>\n",
       "    <tr>\n",
       "      <th>0</th>\n",
       "      <td>17.99</td>\n",
       "      <td>10.38</td>\n",
       "      <td>122.80</td>\n",
       "      <td>1001.0</td>\n",
       "      <td>0.11840</td>\n",
       "      <td>0.27760</td>\n",
       "      <td>0.3001</td>\n",
       "      <td>0.14710</td>\n",
       "      <td>0.2419</td>\n",
       "      <td>0.07871</td>\n",
       "      <td>...</td>\n",
       "      <td>25.38</td>\n",
       "      <td>17.33</td>\n",
       "      <td>184.60</td>\n",
       "      <td>2019.0</td>\n",
       "      <td>0.1622</td>\n",
       "      <td>0.6656</td>\n",
       "      <td>0.7119</td>\n",
       "      <td>0.2654</td>\n",
       "      <td>0.4601</td>\n",
       "      <td>0.11890</td>\n",
       "    </tr>\n",
       "    <tr>\n",
       "      <th>1</th>\n",
       "      <td>20.57</td>\n",
       "      <td>17.77</td>\n",
       "      <td>132.90</td>\n",
       "      <td>1326.0</td>\n",
       "      <td>0.08474</td>\n",
       "      <td>0.07864</td>\n",
       "      <td>0.0869</td>\n",
       "      <td>0.07017</td>\n",
       "      <td>0.1812</td>\n",
       "      <td>0.05667</td>\n",
       "      <td>...</td>\n",
       "      <td>24.99</td>\n",
       "      <td>23.41</td>\n",
       "      <td>158.80</td>\n",
       "      <td>1956.0</td>\n",
       "      <td>0.1238</td>\n",
       "      <td>0.1866</td>\n",
       "      <td>0.2416</td>\n",
       "      <td>0.1860</td>\n",
       "      <td>0.2750</td>\n",
       "      <td>0.08902</td>\n",
       "    </tr>\n",
       "    <tr>\n",
       "      <th>2</th>\n",
       "      <td>19.69</td>\n",
       "      <td>21.25</td>\n",
       "      <td>130.00</td>\n",
       "      <td>1203.0</td>\n",
       "      <td>0.10960</td>\n",
       "      <td>0.15990</td>\n",
       "      <td>0.1974</td>\n",
       "      <td>0.12790</td>\n",
       "      <td>0.2069</td>\n",
       "      <td>0.05999</td>\n",
       "      <td>...</td>\n",
       "      <td>23.57</td>\n",
       "      <td>25.53</td>\n",
       "      <td>152.50</td>\n",
       "      <td>1709.0</td>\n",
       "      <td>0.1444</td>\n",
       "      <td>0.4245</td>\n",
       "      <td>0.4504</td>\n",
       "      <td>0.2430</td>\n",
       "      <td>0.3613</td>\n",
       "      <td>0.08758</td>\n",
       "    </tr>\n",
       "    <tr>\n",
       "      <th>3</th>\n",
       "      <td>11.42</td>\n",
       "      <td>20.38</td>\n",
       "      <td>77.58</td>\n",
       "      <td>386.1</td>\n",
       "      <td>0.14250</td>\n",
       "      <td>0.28390</td>\n",
       "      <td>0.2414</td>\n",
       "      <td>0.10520</td>\n",
       "      <td>0.2597</td>\n",
       "      <td>0.09744</td>\n",
       "      <td>...</td>\n",
       "      <td>14.91</td>\n",
       "      <td>26.50</td>\n",
       "      <td>98.87</td>\n",
       "      <td>567.7</td>\n",
       "      <td>0.2098</td>\n",
       "      <td>0.8663</td>\n",
       "      <td>0.6869</td>\n",
       "      <td>0.2575</td>\n",
       "      <td>0.6638</td>\n",
       "      <td>0.17300</td>\n",
       "    </tr>\n",
       "    <tr>\n",
       "      <th>4</th>\n",
       "      <td>20.29</td>\n",
       "      <td>14.34</td>\n",
       "      <td>135.10</td>\n",
       "      <td>1297.0</td>\n",
       "      <td>0.10030</td>\n",
       "      <td>0.13280</td>\n",
       "      <td>0.1980</td>\n",
       "      <td>0.10430</td>\n",
       "      <td>0.1809</td>\n",
       "      <td>0.05883</td>\n",
       "      <td>...</td>\n",
       "      <td>22.54</td>\n",
       "      <td>16.67</td>\n",
       "      <td>152.20</td>\n",
       "      <td>1575.0</td>\n",
       "      <td>0.1374</td>\n",
       "      <td>0.2050</td>\n",
       "      <td>0.4000</td>\n",
       "      <td>0.1625</td>\n",
       "      <td>0.2364</td>\n",
       "      <td>0.07678</td>\n",
       "    </tr>\n",
       "  </tbody>\n",
       "</table>\n",
       "<p>5 rows × 30 columns</p>\n",
       "</div>"
      ],
      "text/plain": [
       "   radius (mean)  texture (mean)  perimeter (mean)  area (mean)  \\\n",
       "0          17.99           10.38            122.80       1001.0   \n",
       "1          20.57           17.77            132.90       1326.0   \n",
       "2          19.69           21.25            130.00       1203.0   \n",
       "3          11.42           20.38             77.58        386.1   \n",
       "4          20.29           14.34            135.10       1297.0   \n",
       "\n",
       "   smoothness (mean)  compactness (mean)  concavity (mean)  \\\n",
       "0            0.11840             0.27760            0.3001   \n",
       "1            0.08474             0.07864            0.0869   \n",
       "2            0.10960             0.15990            0.1974   \n",
       "3            0.14250             0.28390            0.2414   \n",
       "4            0.10030             0.13280            0.1980   \n",
       "\n",
       "   concave points (mean)  symmetry (mean)  fractal dimension (mean)  \\\n",
       "0                0.14710           0.2419                   0.07871   \n",
       "1                0.07017           0.1812                   0.05667   \n",
       "2                0.12790           0.2069                   0.05999   \n",
       "3                0.10520           0.2597                   0.09744   \n",
       "4                0.10430           0.1809                   0.05883   \n",
       "\n",
       "             ...              radius (worst)  texture (worst)  \\\n",
       "0            ...                       25.38            17.33   \n",
       "1            ...                       24.99            23.41   \n",
       "2            ...                       23.57            25.53   \n",
       "3            ...                       14.91            26.50   \n",
       "4            ...                       22.54            16.67   \n",
       "\n",
       "   perimeter (worst)  area (worst)  smoothness (worst)  compactness (worst)  \\\n",
       "0             184.60        2019.0              0.1622               0.6656   \n",
       "1             158.80        1956.0              0.1238               0.1866   \n",
       "2             152.50        1709.0              0.1444               0.4245   \n",
       "3              98.87         567.7              0.2098               0.8663   \n",
       "4             152.20        1575.0              0.1374               0.2050   \n",
       "\n",
       "   concavity (worst)  concave points (worst)  symmetry (worst)  \\\n",
       "0             0.7119                  0.2654            0.4601   \n",
       "1             0.2416                  0.1860            0.2750   \n",
       "2             0.4504                  0.2430            0.3613   \n",
       "3             0.6869                  0.2575            0.6638   \n",
       "4             0.4000                  0.1625            0.2364   \n",
       "\n",
       "   fractal dimension (worst)  \n",
       "0                    0.11890  \n",
       "1                    0.08902  \n",
       "2                    0.08758  \n",
       "3                    0.17300  \n",
       "4                    0.07678  \n",
       "\n",
       "[5 rows x 30 columns]"
      ]
     },
     "execution_count": 11,
     "metadata": {},
     "output_type": "execute_result"
    }
   ],
   "source": [
    "X.head()"
   ]
  },
  {
   "cell_type": "code",
   "execution_count": 12,
   "metadata": {
    "collapsed": false
   },
   "outputs": [
    {
     "data": {
      "text/html": [
       "<div>\n",
       "<table border=\"1\" class=\"dataframe\">\n",
       "  <thead>\n",
       "    <tr style=\"text-align: right;\">\n",
       "      <th></th>\n",
       "      <th>y</th>\n",
       "    </tr>\n",
       "  </thead>\n",
       "  <tbody>\n",
       "    <tr>\n",
       "      <th>0</th>\n",
       "      <td>0</td>\n",
       "    </tr>\n",
       "    <tr>\n",
       "      <th>1</th>\n",
       "      <td>0</td>\n",
       "    </tr>\n",
       "    <tr>\n",
       "      <th>2</th>\n",
       "      <td>0</td>\n",
       "    </tr>\n",
       "    <tr>\n",
       "      <th>3</th>\n",
       "      <td>0</td>\n",
       "    </tr>\n",
       "    <tr>\n",
       "      <th>4</th>\n",
       "      <td>0</td>\n",
       "    </tr>\n",
       "  </tbody>\n",
       "</table>\n",
       "</div>"
      ],
      "text/plain": [
       "   y\n",
       "0  0\n",
       "1  0\n",
       "2  0\n",
       "3  0\n",
       "4  0"
      ]
     },
     "execution_count": 12,
     "metadata": {},
     "output_type": "execute_result"
    }
   ],
   "source": [
    "y.head()"
   ]
  },
  {
   "cell_type": "code",
   "execution_count": 16,
   "metadata": {
    "collapsed": false
   },
   "outputs": [],
   "source": [
    "breastCancer = pd.DataFrame(np.hstack((X,y)), columns=params + ['y'])"
   ]
  },
  {
   "cell_type": "code",
   "execution_count": 18,
   "metadata": {
    "collapsed": false
   },
   "outputs": [
    {
     "data": {
      "text/html": [
       "<div>\n",
       "<table border=\"1\" class=\"dataframe\">\n",
       "  <thead>\n",
       "    <tr style=\"text-align: right;\">\n",
       "      <th></th>\n",
       "      <th>radius (mean)</th>\n",
       "      <th>texture (mean)</th>\n",
       "      <th>perimeter (mean)</th>\n",
       "      <th>area (mean)</th>\n",
       "      <th>smoothness (mean)</th>\n",
       "      <th>compactness (mean)</th>\n",
       "      <th>concavity (mean)</th>\n",
       "      <th>concave points (mean)</th>\n",
       "      <th>symmetry (mean)</th>\n",
       "      <th>fractal dimension (mean)</th>\n",
       "      <th>...</th>\n",
       "      <th>texture (worst)</th>\n",
       "      <th>perimeter (worst)</th>\n",
       "      <th>area (worst)</th>\n",
       "      <th>smoothness (worst)</th>\n",
       "      <th>compactness (worst)</th>\n",
       "      <th>concavity (worst)</th>\n",
       "      <th>concave points (worst)</th>\n",
       "      <th>symmetry (worst)</th>\n",
       "      <th>fractal dimension (worst)</th>\n",
       "      <th>y</th>\n",
       "    </tr>\n",
       "  </thead>\n",
       "  <tbody>\n",
       "    <tr>\n",
       "      <th>0</th>\n",
       "      <td>17.99</td>\n",
       "      <td>10.38</td>\n",
       "      <td>122.80</td>\n",
       "      <td>1001.0</td>\n",
       "      <td>0.11840</td>\n",
       "      <td>0.27760</td>\n",
       "      <td>0.3001</td>\n",
       "      <td>0.14710</td>\n",
       "      <td>0.2419</td>\n",
       "      <td>0.07871</td>\n",
       "      <td>...</td>\n",
       "      <td>17.33</td>\n",
       "      <td>184.60</td>\n",
       "      <td>2019.0</td>\n",
       "      <td>0.1622</td>\n",
       "      <td>0.6656</td>\n",
       "      <td>0.7119</td>\n",
       "      <td>0.2654</td>\n",
       "      <td>0.4601</td>\n",
       "      <td>0.11890</td>\n",
       "      <td>0.0</td>\n",
       "    </tr>\n",
       "    <tr>\n",
       "      <th>1</th>\n",
       "      <td>20.57</td>\n",
       "      <td>17.77</td>\n",
       "      <td>132.90</td>\n",
       "      <td>1326.0</td>\n",
       "      <td>0.08474</td>\n",
       "      <td>0.07864</td>\n",
       "      <td>0.0869</td>\n",
       "      <td>0.07017</td>\n",
       "      <td>0.1812</td>\n",
       "      <td>0.05667</td>\n",
       "      <td>...</td>\n",
       "      <td>23.41</td>\n",
       "      <td>158.80</td>\n",
       "      <td>1956.0</td>\n",
       "      <td>0.1238</td>\n",
       "      <td>0.1866</td>\n",
       "      <td>0.2416</td>\n",
       "      <td>0.1860</td>\n",
       "      <td>0.2750</td>\n",
       "      <td>0.08902</td>\n",
       "      <td>0.0</td>\n",
       "    </tr>\n",
       "    <tr>\n",
       "      <th>2</th>\n",
       "      <td>19.69</td>\n",
       "      <td>21.25</td>\n",
       "      <td>130.00</td>\n",
       "      <td>1203.0</td>\n",
       "      <td>0.10960</td>\n",
       "      <td>0.15990</td>\n",
       "      <td>0.1974</td>\n",
       "      <td>0.12790</td>\n",
       "      <td>0.2069</td>\n",
       "      <td>0.05999</td>\n",
       "      <td>...</td>\n",
       "      <td>25.53</td>\n",
       "      <td>152.50</td>\n",
       "      <td>1709.0</td>\n",
       "      <td>0.1444</td>\n",
       "      <td>0.4245</td>\n",
       "      <td>0.4504</td>\n",
       "      <td>0.2430</td>\n",
       "      <td>0.3613</td>\n",
       "      <td>0.08758</td>\n",
       "      <td>0.0</td>\n",
       "    </tr>\n",
       "    <tr>\n",
       "      <th>3</th>\n",
       "      <td>11.42</td>\n",
       "      <td>20.38</td>\n",
       "      <td>77.58</td>\n",
       "      <td>386.1</td>\n",
       "      <td>0.14250</td>\n",
       "      <td>0.28390</td>\n",
       "      <td>0.2414</td>\n",
       "      <td>0.10520</td>\n",
       "      <td>0.2597</td>\n",
       "      <td>0.09744</td>\n",
       "      <td>...</td>\n",
       "      <td>26.50</td>\n",
       "      <td>98.87</td>\n",
       "      <td>567.7</td>\n",
       "      <td>0.2098</td>\n",
       "      <td>0.8663</td>\n",
       "      <td>0.6869</td>\n",
       "      <td>0.2575</td>\n",
       "      <td>0.6638</td>\n",
       "      <td>0.17300</td>\n",
       "      <td>0.0</td>\n",
       "    </tr>\n",
       "    <tr>\n",
       "      <th>4</th>\n",
       "      <td>20.29</td>\n",
       "      <td>14.34</td>\n",
       "      <td>135.10</td>\n",
       "      <td>1297.0</td>\n",
       "      <td>0.10030</td>\n",
       "      <td>0.13280</td>\n",
       "      <td>0.1980</td>\n",
       "      <td>0.10430</td>\n",
       "      <td>0.1809</td>\n",
       "      <td>0.05883</td>\n",
       "      <td>...</td>\n",
       "      <td>16.67</td>\n",
       "      <td>152.20</td>\n",
       "      <td>1575.0</td>\n",
       "      <td>0.1374</td>\n",
       "      <td>0.2050</td>\n",
       "      <td>0.4000</td>\n",
       "      <td>0.1625</td>\n",
       "      <td>0.2364</td>\n",
       "      <td>0.07678</td>\n",
       "      <td>0.0</td>\n",
       "    </tr>\n",
       "  </tbody>\n",
       "</table>\n",
       "<p>5 rows × 31 columns</p>\n",
       "</div>"
      ],
      "text/plain": [
       "   radius (mean)  texture (mean)  perimeter (mean)  area (mean)  \\\n",
       "0          17.99           10.38            122.80       1001.0   \n",
       "1          20.57           17.77            132.90       1326.0   \n",
       "2          19.69           21.25            130.00       1203.0   \n",
       "3          11.42           20.38             77.58        386.1   \n",
       "4          20.29           14.34            135.10       1297.0   \n",
       "\n",
       "   smoothness (mean)  compactness (mean)  concavity (mean)  \\\n",
       "0            0.11840             0.27760            0.3001   \n",
       "1            0.08474             0.07864            0.0869   \n",
       "2            0.10960             0.15990            0.1974   \n",
       "3            0.14250             0.28390            0.2414   \n",
       "4            0.10030             0.13280            0.1980   \n",
       "\n",
       "   concave points (mean)  symmetry (mean)  fractal dimension (mean) ...   \\\n",
       "0                0.14710           0.2419                   0.07871 ...    \n",
       "1                0.07017           0.1812                   0.05667 ...    \n",
       "2                0.12790           0.2069                   0.05999 ...    \n",
       "3                0.10520           0.2597                   0.09744 ...    \n",
       "4                0.10430           0.1809                   0.05883 ...    \n",
       "\n",
       "   texture (worst)  perimeter (worst)  area (worst)  smoothness (worst)  \\\n",
       "0            17.33             184.60        2019.0              0.1622   \n",
       "1            23.41             158.80        1956.0              0.1238   \n",
       "2            25.53             152.50        1709.0              0.1444   \n",
       "3            26.50              98.87         567.7              0.2098   \n",
       "4            16.67             152.20        1575.0              0.1374   \n",
       "\n",
       "   compactness (worst)  concavity (worst)  concave points (worst)  \\\n",
       "0               0.6656             0.7119                  0.2654   \n",
       "1               0.1866             0.2416                  0.1860   \n",
       "2               0.4245             0.4504                  0.2430   \n",
       "3               0.8663             0.6869                  0.2575   \n",
       "4               0.2050             0.4000                  0.1625   \n",
       "\n",
       "   symmetry (worst)  fractal dimension (worst)    y  \n",
       "0            0.4601                    0.11890  0.0  \n",
       "1            0.2750                    0.08902  0.0  \n",
       "2            0.3613                    0.08758  0.0  \n",
       "3            0.6638                    0.17300  0.0  \n",
       "4            0.2364                    0.07678  0.0  \n",
       "\n",
       "[5 rows x 31 columns]"
      ]
     },
     "execution_count": 18,
     "metadata": {},
     "output_type": "execute_result"
    }
   ],
   "source": [
    "breastCancer.head()"
   ]
  },
  {
   "cell_type": "code",
   "execution_count": 19,
   "metadata": {
    "collapsed": false
   },
   "outputs": [
    {
     "data": {
      "text/plain": [
       "(569, 31)"
      ]
     },
     "execution_count": 19,
     "metadata": {},
     "output_type": "execute_result"
    }
   ],
   "source": [
    "breastCancer.shape"
   ]
  },
  {
   "cell_type": "code",
   "execution_count": 20,
   "metadata": {
    "collapsed": true
   },
   "outputs": [],
   "source": [
    "from sklearn.linear_model import LogisticRegression"
   ]
  },
  {
   "cell_type": "code",
   "execution_count": 21,
   "metadata": {
    "collapsed": true
   },
   "outputs": [],
   "source": [
    "reg = LogisticRegression(penalty='l1')"
   ]
  },
  {
   "cell_type": "code",
   "execution_count": 22,
   "metadata": {
    "collapsed": false
   },
   "outputs": [
    {
     "data": {
      "text/plain": [
       "1.0"
      ]
     },
     "execution_count": 22,
     "metadata": {},
     "output_type": "execute_result"
    }
   ],
   "source": [
    "reg.C"
   ]
  },
  {
   "cell_type": "code",
   "execution_count": 23,
   "metadata": {
    "collapsed": false
   },
   "outputs": [
    {
     "name": "stderr",
     "output_type": "stream",
     "text": [
      "C:\\Users\\prasa\\Anaconda3\\lib\\site-packages\\sklearn\\utils\\validation.py:515: DataConversionWarning: A column-vector y was passed when a 1d array was expected. Please change the shape of y to (n_samples, ), for example using ravel().\n",
      "  y = column_or_1d(y, warn=True)\n"
     ]
    },
    {
     "data": {
      "text/plain": [
       "LogisticRegression(C=1.0, class_weight=None, dual=False, fit_intercept=True,\n",
       "          intercept_scaling=1, max_iter=100, multi_class='ovr', n_jobs=1,\n",
       "          penalty='l1', random_state=None, solver='liblinear', tol=0.0001,\n",
       "          verbose=0, warm_start=False)"
      ]
     },
     "execution_count": 23,
     "metadata": {},
     "output_type": "execute_result"
    }
   ],
   "source": [
    "reg.fit(X,y)"
   ]
  },
  {
   "cell_type": "code",
   "execution_count": 24,
   "metadata": {
    "collapsed": false
   },
   "outputs": [
    {
     "data": {
      "text/plain": [
       "array([[ 4.53484563,  0.10044388, -0.25241037, -0.01658515,  0.        ,\n",
       "         0.        ,  0.        ,  0.        ,  0.        ,  0.        ,\n",
       "         0.        ,  1.41318022,  0.        , -0.0964901 ,  0.        ,\n",
       "         0.        ,  0.        ,  0.        ,  0.        ,  0.        ,\n",
       "         0.        , -0.35738419, -0.07568142, -0.01508266,  0.        ,\n",
       "         0.        , -3.52846005,  0.        ,  0.        ,  0.        ]])"
      ]
     },
     "execution_count": 24,
     "metadata": {},
     "output_type": "execute_result"
    }
   ],
   "source": [
    "reg.coef_"
   ]
  },
  {
   "cell_type": "code",
   "execution_count": 25,
   "metadata": {
    "collapsed": false
   },
   "outputs": [
    {
     "data": {
      "text/plain": [
       "array([ 0.])"
      ]
     },
     "execution_count": 25,
     "metadata": {},
     "output_type": "execute_result"
    }
   ],
   "source": [
    "reg.intercept_"
   ]
  },
  {
   "cell_type": "code",
   "execution_count": 39,
   "metadata": {
    "collapsed": false
   },
   "outputs": [],
   "source": [
    "c_vals = [.001, 0.01, 0.1, 1, 10, 100, 1000]"
   ]
  },
  {
   "cell_type": "code",
   "execution_count": null,
   "metadata": {
    "collapsed": true
   },
   "outputs": [],
   "source": []
  },
  {
   "cell_type": "code",
   "execution_count": 43,
   "metadata": {
    "collapsed": false
   },
   "outputs": [
    {
     "name": "stderr",
     "output_type": "stream",
     "text": [
      "C:\\Users\\prasa\\Anaconda3\\lib\\site-packages\\sklearn\\utils\\validation.py:515: DataConversionWarning: A column-vector y was passed when a 1d array was expected. Please change the shape of y to (n_samples, ), for example using ravel().\n",
      "  y = column_or_1d(y, warn=True)\n",
      "C:\\Users\\prasa\\Anaconda3\\lib\\site-packages\\sklearn\\utils\\validation.py:515: DataConversionWarning: A column-vector y was passed when a 1d array was expected. Please change the shape of y to (n_samples, ), for example using ravel().\n",
      "  y = column_or_1d(y, warn=True)\n",
      "C:\\Users\\prasa\\Anaconda3\\lib\\site-packages\\sklearn\\utils\\validation.py:515: DataConversionWarning: A column-vector y was passed when a 1d array was expected. Please change the shape of y to (n_samples, ), for example using ravel().\n",
      "  y = column_or_1d(y, warn=True)\n",
      "C:\\Users\\prasa\\Anaconda3\\lib\\site-packages\\sklearn\\utils\\validation.py:515: DataConversionWarning: A column-vector y was passed when a 1d array was expected. Please change the shape of y to (n_samples, ), for example using ravel().\n",
      "  y = column_or_1d(y, warn=True)\n",
      "C:\\Users\\prasa\\Anaconda3\\lib\\site-packages\\sklearn\\utils\\validation.py:515: DataConversionWarning: A column-vector y was passed when a 1d array was expected. Please change the shape of y to (n_samples, ), for example using ravel().\n",
      "  y = column_or_1d(y, warn=True)\n",
      "C:\\Users\\prasa\\Anaconda3\\lib\\site-packages\\sklearn\\utils\\validation.py:515: DataConversionWarning: A column-vector y was passed when a 1d array was expected. Please change the shape of y to (n_samples, ), for example using ravel().\n",
      "  y = column_or_1d(y, warn=True)\n",
      "C:\\Users\\prasa\\Anaconda3\\lib\\site-packages\\sklearn\\utils\\validation.py:515: DataConversionWarning: A column-vector y was passed when a 1d array was expected. Please change the shape of y to (n_samples, ), for example using ravel().\n",
      "  y = column_or_1d(y, warn=True)\n"
     ]
    }
   ],
   "source": [
    "coefs = []\n",
    "models = []\n",
    "for val in c_vals:\n",
    "    r = LogisticRegression(penalty='l1', C=val)\n",
    "    r.fit(X, y)\n",
    "    coefs.append(r.coef_[0])\n",
    "    models.append(r)"
   ]
  },
  {
   "cell_type": "code",
   "execution_count": 48,
   "metadata": {
    "collapsed": false
   },
   "outputs": [],
   "source": [
    "coefs = np.array(coefs)"
   ]
  },
  {
   "cell_type": "code",
   "execution_count": 51,
   "metadata": {
    "collapsed": true
   },
   "outputs": [],
   "source": [
    "coefDf = pd.DataFrame(coefs, index=c_vals)"
   ]
  },
  {
   "cell_type": "code",
   "execution_count": 52,
   "metadata": {
    "collapsed": false
   },
   "outputs": [
    {
     "data": {
      "text/html": [
       "<div>\n",
       "<table border=\"1\" class=\"dataframe\">\n",
       "  <thead>\n",
       "    <tr style=\"text-align: right;\">\n",
       "      <th></th>\n",
       "      <th>0</th>\n",
       "      <th>1</th>\n",
       "      <th>2</th>\n",
       "      <th>3</th>\n",
       "      <th>4</th>\n",
       "      <th>5</th>\n",
       "      <th>6</th>\n",
       "      <th>7</th>\n",
       "      <th>8</th>\n",
       "      <th>9</th>\n",
       "      <th>...</th>\n",
       "      <th>20</th>\n",
       "      <th>21</th>\n",
       "      <th>22</th>\n",
       "      <th>23</th>\n",
       "      <th>24</th>\n",
       "      <th>25</th>\n",
       "      <th>26</th>\n",
       "      <th>27</th>\n",
       "      <th>28</th>\n",
       "      <th>29</th>\n",
       "    </tr>\n",
       "  </thead>\n",
       "  <tbody>\n",
       "    <tr>\n",
       "      <th>0.001</th>\n",
       "      <td>0.000000</td>\n",
       "      <td>0.000000</td>\n",
       "      <td>0.069886</td>\n",
       "      <td>0.005112</td>\n",
       "      <td>0.000000</td>\n",
       "      <td>0.000000</td>\n",
       "      <td>0.000000</td>\n",
       "      <td>0.000000</td>\n",
       "      <td>0.000000</td>\n",
       "      <td>0.000000</td>\n",
       "      <td>...</td>\n",
       "      <td>0.000000</td>\n",
       "      <td>0.000000</td>\n",
       "      <td>0.000000</td>\n",
       "      <td>-0.011367</td>\n",
       "      <td>0.000000</td>\n",
       "      <td>0.000000</td>\n",
       "      <td>0.000000</td>\n",
       "      <td>0.000000</td>\n",
       "      <td>0.000000</td>\n",
       "      <td>0.000000</td>\n",
       "    </tr>\n",
       "    <tr>\n",
       "      <th>0.010</th>\n",
       "      <td>0.000000</td>\n",
       "      <td>0.000000</td>\n",
       "      <td>0.157010</td>\n",
       "      <td>0.007418</td>\n",
       "      <td>0.000000</td>\n",
       "      <td>0.000000</td>\n",
       "      <td>0.000000</td>\n",
       "      <td>0.000000</td>\n",
       "      <td>0.000000</td>\n",
       "      <td>0.000000</td>\n",
       "      <td>...</td>\n",
       "      <td>0.000000</td>\n",
       "      <td>-0.003989</td>\n",
       "      <td>0.000000</td>\n",
       "      <td>-0.022456</td>\n",
       "      <td>0.000000</td>\n",
       "      <td>0.000000</td>\n",
       "      <td>0.000000</td>\n",
       "      <td>0.000000</td>\n",
       "      <td>0.000000</td>\n",
       "      <td>0.000000</td>\n",
       "    </tr>\n",
       "    <tr>\n",
       "      <th>0.100</th>\n",
       "      <td>0.831927</td>\n",
       "      <td>0.000000</td>\n",
       "      <td>0.214542</td>\n",
       "      <td>-0.004296</td>\n",
       "      <td>0.000000</td>\n",
       "      <td>0.000000</td>\n",
       "      <td>0.000000</td>\n",
       "      <td>0.000000</td>\n",
       "      <td>0.000000</td>\n",
       "      <td>0.000000</td>\n",
       "      <td>...</td>\n",
       "      <td>0.391196</td>\n",
       "      <td>-0.130657</td>\n",
       "      <td>-0.128611</td>\n",
       "      <td>-0.020089</td>\n",
       "      <td>0.000000</td>\n",
       "      <td>0.000000</td>\n",
       "      <td>0.000000</td>\n",
       "      <td>0.000000</td>\n",
       "      <td>0.000000</td>\n",
       "      <td>0.000000</td>\n",
       "    </tr>\n",
       "    <tr>\n",
       "      <th>1.000</th>\n",
       "      <td>3.699765</td>\n",
       "      <td>0.094854</td>\n",
       "      <td>-0.158629</td>\n",
       "      <td>-0.013766</td>\n",
       "      <td>0.000000</td>\n",
       "      <td>0.000000</td>\n",
       "      <td>0.000000</td>\n",
       "      <td>0.000000</td>\n",
       "      <td>0.000000</td>\n",
       "      <td>0.000000</td>\n",
       "      <td>...</td>\n",
       "      <td>0.335180</td>\n",
       "      <td>-0.349607</td>\n",
       "      <td>-0.094990</td>\n",
       "      <td>-0.017412</td>\n",
       "      <td>0.000000</td>\n",
       "      <td>0.000000</td>\n",
       "      <td>-3.828974</td>\n",
       "      <td>0.000000</td>\n",
       "      <td>0.000000</td>\n",
       "      <td>0.000000</td>\n",
       "    </tr>\n",
       "    <tr>\n",
       "      <th>10.000</th>\n",
       "      <td>1.254263</td>\n",
       "      <td>0.061255</td>\n",
       "      <td>0.088246</td>\n",
       "      <td>-0.011299</td>\n",
       "      <td>0.000000</td>\n",
       "      <td>0.000000</td>\n",
       "      <td>-7.172368</td>\n",
       "      <td>0.000000</td>\n",
       "      <td>0.000000</td>\n",
       "      <td>0.000000</td>\n",
       "      <td>...</td>\n",
       "      <td>0.272120</td>\n",
       "      <td>-0.431963</td>\n",
       "      <td>0.053936</td>\n",
       "      <td>-0.021133</td>\n",
       "      <td>-10.785198</td>\n",
       "      <td>0.440773</td>\n",
       "      <td>-0.907739</td>\n",
       "      <td>-38.311200</td>\n",
       "      <td>-5.717485</td>\n",
       "      <td>0.000000</td>\n",
       "    </tr>\n",
       "    <tr>\n",
       "      <th>100.000</th>\n",
       "      <td>1.612722</td>\n",
       "      <td>-0.134719</td>\n",
       "      <td>0.168317</td>\n",
       "      <td>-0.010102</td>\n",
       "      <td>0.000000</td>\n",
       "      <td>38.143887</td>\n",
       "      <td>-7.556119</td>\n",
       "      <td>-110.390337</td>\n",
       "      <td>5.477108</td>\n",
       "      <td>0.000000</td>\n",
       "      <td>...</td>\n",
       "      <td>-0.239247</td>\n",
       "      <td>-0.395972</td>\n",
       "      <td>-0.136703</td>\n",
       "      <td>-0.010765</td>\n",
       "      <td>-41.265018</td>\n",
       "      <td>2.734697</td>\n",
       "      <td>-9.089106</td>\n",
       "      <td>-32.243442</td>\n",
       "      <td>-15.260111</td>\n",
       "      <td>0.000000</td>\n",
       "    </tr>\n",
       "    <tr>\n",
       "      <th>1000.000</th>\n",
       "      <td>1.585045</td>\n",
       "      <td>-0.021097</td>\n",
       "      <td>0.222375</td>\n",
       "      <td>0.003006</td>\n",
       "      <td>-38.246601</td>\n",
       "      <td>98.254486</td>\n",
       "      <td>-64.084812</td>\n",
       "      <td>-141.845017</td>\n",
       "      <td>42.109867</td>\n",
       "      <td>-22.882879</td>\n",
       "      <td>...</td>\n",
       "      <td>0.255186</td>\n",
       "      <td>-0.559022</td>\n",
       "      <td>-0.021033</td>\n",
       "      <td>-0.039468</td>\n",
       "      <td>-7.660070</td>\n",
       "      <td>3.715878</td>\n",
       "      <td>-14.537063</td>\n",
       "      <td>0.000000</td>\n",
       "      <td>-41.604251</td>\n",
       "      <td>-113.934064</td>\n",
       "    </tr>\n",
       "  </tbody>\n",
       "</table>\n",
       "<p>7 rows × 30 columns</p>\n",
       "</div>"
      ],
      "text/plain": [
       "                0         1         2         3          4          5   \\\n",
       "0.001     0.000000  0.000000  0.069886  0.005112   0.000000   0.000000   \n",
       "0.010     0.000000  0.000000  0.157010  0.007418   0.000000   0.000000   \n",
       "0.100     0.831927  0.000000  0.214542 -0.004296   0.000000   0.000000   \n",
       "1.000     3.699765  0.094854 -0.158629 -0.013766   0.000000   0.000000   \n",
       "10.000    1.254263  0.061255  0.088246 -0.011299   0.000000   0.000000   \n",
       "100.000   1.612722 -0.134719  0.168317 -0.010102   0.000000  38.143887   \n",
       "1000.000  1.585045 -0.021097  0.222375  0.003006 -38.246601  98.254486   \n",
       "\n",
       "                 6           7          8          9      ...            20  \\\n",
       "0.001      0.000000    0.000000   0.000000   0.000000     ...      0.000000   \n",
       "0.010      0.000000    0.000000   0.000000   0.000000     ...      0.000000   \n",
       "0.100      0.000000    0.000000   0.000000   0.000000     ...      0.391196   \n",
       "1.000      0.000000    0.000000   0.000000   0.000000     ...      0.335180   \n",
       "10.000    -7.172368    0.000000   0.000000   0.000000     ...      0.272120   \n",
       "100.000   -7.556119 -110.390337   5.477108   0.000000     ...     -0.239247   \n",
       "1000.000 -64.084812 -141.845017  42.109867 -22.882879     ...      0.255186   \n",
       "\n",
       "                21        22        23         24        25         26  \\\n",
       "0.001     0.000000  0.000000 -0.011367   0.000000  0.000000   0.000000   \n",
       "0.010    -0.003989  0.000000 -0.022456   0.000000  0.000000   0.000000   \n",
       "0.100    -0.130657 -0.128611 -0.020089   0.000000  0.000000   0.000000   \n",
       "1.000    -0.349607 -0.094990 -0.017412   0.000000  0.000000  -3.828974   \n",
       "10.000   -0.431963  0.053936 -0.021133 -10.785198  0.440773  -0.907739   \n",
       "100.000  -0.395972 -0.136703 -0.010765 -41.265018  2.734697  -9.089106   \n",
       "1000.000 -0.559022 -0.021033 -0.039468  -7.660070  3.715878 -14.537063   \n",
       "\n",
       "                 27         28          29  \n",
       "0.001      0.000000   0.000000    0.000000  \n",
       "0.010      0.000000   0.000000    0.000000  \n",
       "0.100      0.000000   0.000000    0.000000  \n",
       "1.000      0.000000   0.000000    0.000000  \n",
       "10.000   -38.311200  -5.717485    0.000000  \n",
       "100.000  -32.243442 -15.260111    0.000000  \n",
       "1000.000   0.000000 -41.604251 -113.934064  \n",
       "\n",
       "[7 rows x 30 columns]"
      ]
     },
     "execution_count": 52,
     "metadata": {},
     "output_type": "execute_result"
    }
   ],
   "source": [
    "coefDf"
   ]
  },
  {
   "cell_type": "code",
   "execution_count": 58,
   "metadata": {
    "collapsed": true
   },
   "outputs": [],
   "source": [
    "import matplotlib.pyplot as plt\n",
    "%matplotlib inline"
   ]
  },
  {
   "cell_type": "code",
   "execution_count": 67,
   "metadata": {
    "collapsed": false
   },
   "outputs": [
    {
     "data": {
      "image/png": "[encoded data removed]",
      "text/plain": [
       "<matplotlib.figure.Figure at 0x266980f9fd0>"
      ]
     },
     "metadata": {},
     "output_type": "display_data"
    }
   ],
   "source": [
    "colors = ['violet', 'indigo', 'blue', 'green', 'yellow', 'orange', 'red']\n",
    "i = 0\n",
    "plt.ylim((-100, 100))\n",
    "plt.xlim((c_vals[0], c_vals[-1]))\n",
    "for _ in coefDf:\n",
    "    plt.plot(c_vals, coefDf[_].values , color = colors[i % 7])\n",
    "    i = i + 1\n",
    "\n",
    "plt.show()"
   ]
  },
  {
   "cell_type": "code",
   "execution_count": 68,
   "metadata": {
    "collapsed": true
   },
   "outputs": [],
   "source": [
    "from sklearn.grid_search import GridSearchCV"
   ]
  },
  {
   "cell_type": "code",
   "execution_count": 70,
   "metadata": {
    "collapsed": false
   },
   "outputs": [
    {
     "data": {
      "text/plain": [
       "[0.001, 0.01, 0.1, 1, 10, 100, 1000]"
      ]
     },
     "execution_count": 70,
     "metadata": {},
     "output_type": "execute_result"
    }
   ],
   "source": [
    "c_vals"
   ]
  },
  {
   "cell_type": "code",
   "execution_count": 92,
   "metadata": {
    "collapsed": false
   },
   "outputs": [],
   "source": [
    "gs = GridSearchCV(reg, { 'C' : c_vals + [ 5000, 10000] }, cv=10)"
   ]
  },
  {
   "cell_type": "code",
   "execution_count": 93,
   "metadata": {
    "collapsed": false
   },
   "outputs": [
    {
     "data": {
      "text/plain": [
       "GridSearchCV(cv=10, error_score='raise',\n",
       "       estimator=LogisticRegression(C=1.0, class_weight=None, dual=False, fit_intercept=True,\n",
       "          intercept_scaling=1, max_iter=100, multi_class='ovr', n_jobs=1,\n",
       "          penalty='l1', random_state=None, solver='liblinear', tol=0.0001,\n",
       "          verbose=0, warm_start=False),\n",
       "       fit_params={}, iid=True, n_jobs=1,\n",
       "       param_grid={'C': [0.001, 0.01, 0.1, 1, 10, 100, 1000, 5000, 10000]},\n",
       "       pre_dispatch='2*n_jobs', refit=True, scoring=None, verbose=0)"
      ]
     },
     "execution_count": 93,
     "metadata": {},
     "output_type": "execute_result"
    }
   ],
   "source": [
    "gs.fit(X.values, y.values.reshape(len(y)))"
   ]
  },
  {
   "cell_type": "code",
   "execution_count": 96,
   "metadata": {
    "collapsed": false
   },
   "outputs": [
    {
     "data": {
      "text/plain": [
       "array([[  1.71055168e+00,  -1.32363692e-02,   2.40521285e-01,\n",
       "          1.26785246e-03,  -4.51979602e+01,   1.03629885e+02,\n",
       "         -6.82782136e+01,  -1.40078197e+02,   4.26765870e+01,\n",
       "         -3.72208577e+01,  -1.10334401e+01,   2.51719582e+00,\n",
       "          1.29390088e+00,  -1.67724933e-01,   0.00000000e+00,\n",
       "          0.00000000e+00,   1.56143233e+02,  -8.12150586e+02,\n",
       "          9.18571474e+01,   6.94258430e+02,   3.23282563e-01,\n",
       "         -5.80381781e-01,  -3.46373630e-02,  -4.06877197e-02,\n",
       "         -6.01481705e+00,   3.03541317e+00,  -1.45747523e+01,\n",
       "          0.00000000e+00,  -4.16413253e+01,  -1.16975244e+02]])"
      ]
     },
     "execution_count": 96,
     "metadata": {},
     "output_type": "execute_result"
    }
   ],
   "source": [
    "gs.best_estimator_.coef_"
   ]
  },
  {
   "cell_type": "code",
   "execution_count": 109,
   "metadata": {
    "collapsed": false
   },
   "outputs": [
    {
     "data": {
      "text/plain": [
       "array([ 2,  3, 23], dtype=int64)"
      ]
     },
     "execution_count": 109,
     "metadata": {},
     "output_type": "execute_result"
    }
   ],
   "source": [
    "np.nonzero(coefDf.iloc[0])[0]"
   ]
  },
  {
   "cell_type": "code",
   "execution_count": 107,
   "metadata": {
    "collapsed": false
   },
   "outputs": [
    {
     "data": {
      "text/plain": [
       "0     0.000000\n",
       "1     0.000000\n",
       "2     0.069886\n",
       "3     0.005112\n",
       "4     0.000000\n",
       "5     0.000000\n",
       "6     0.000000\n",
       "7     0.000000\n",
       "8     0.000000\n",
       "9     0.000000\n",
       "10    0.000000\n",
       "11    0.000000\n",
       "12    0.000000\n",
       "13    0.000000\n",
       "14    0.000000\n",
       "15    0.000000\n",
       "16    0.000000\n",
       "17    0.000000\n",
       "18    0.000000\n",
       "19    0.000000\n",
       "20    0.000000\n",
       "21    0.000000\n",
       "22    0.000000\n",
       "23   -0.011367\n",
       "24    0.000000\n",
       "25    0.000000\n",
       "26    0.000000\n",
       "27    0.000000\n",
       "28    0.000000\n",
       "29    0.000000\n",
       "Name: 0.001, dtype: float64"
      ]
     },
     "execution_count": 107,
     "metadata": {},
     "output_type": "execute_result"
    }
   ],
   "source": [
    "coefDf.iloc[0]"
   ]
  },
  {
   "cell_type": "code",
   "execution_count": 114,
   "metadata": {
    "collapsed": false
   },
   "outputs": [
    {
     "name": "stdout",
     "output_type": "stream",
     "text": [
      "At C value: 0.00100\n",
      "perimeter (mean)\n",
      "area (mean)\n",
      "area (worst)\n",
      "\n",
      "\n",
      "\n",
      "At C value: 0.01000\n",
      "perimeter (mean)\n",
      "area (mean)\n",
      "area (standard error)\n",
      "texture (worst)\n",
      "area (worst)\n",
      "\n",
      "\n",
      "\n",
      "At C value: 0.10000\n",
      "radius (mean)\n",
      "perimeter (mean)\n",
      "area (mean)\n",
      "area (standard error)\n",
      "radius (worst)\n",
      "texture (worst)\n",
      "perimeter (worst)\n",
      "area (worst)\n",
      "\n",
      "\n",
      "\n",
      "At C value: 1.00000\n",
      "radius (mean)\n",
      "texture (mean)\n",
      "perimeter (mean)\n",
      "area (mean)\n",
      "texture (standard error)\n",
      "area (standard error)\n",
      "radius (worst)\n",
      "texture (worst)\n",
      "perimeter (worst)\n",
      "area (worst)\n",
      "concavity (worst)\n",
      "\n",
      "\n",
      "\n",
      "At C value: 10.00000\n",
      "radius (mean)\n",
      "texture (mean)\n",
      "perimeter (mean)\n",
      "area (mean)\n",
      "concavity (mean)\n",
      "texture (standard error)\n",
      "perimeter (standard error)\n",
      "area (standard error)\n",
      "concavity (standard error)\n",
      "radius (worst)\n",
      "texture (worst)\n",
      "perimeter (worst)\n",
      "area (worst)\n",
      "smoothness (worst)\n",
      "compactness (worst)\n",
      "concavity (worst)\n",
      "concave points (worst)\n",
      "symmetry (worst)\n",
      "\n",
      "\n",
      "\n",
      "At C value: 100.00000\n",
      "radius (mean)\n",
      "texture (mean)\n",
      "perimeter (mean)\n",
      "area (mean)\n",
      "compactness (mean)\n",
      "concavity (mean)\n",
      "concave points (mean)\n",
      "symmetry (mean)\n",
      "radius (standard error)\n",
      "texture (standard error)\n",
      "perimeter (standard error)\n",
      "area (standard error)\n",
      "compactness (standard error)\n",
      "concavity (standard error)\n",
      "radius (worst)\n",
      "texture (worst)\n",
      "perimeter (worst)\n",
      "area (worst)\n",
      "smoothness (worst)\n",
      "compactness (worst)\n",
      "concavity (worst)\n",
      "concave points (worst)\n",
      "symmetry (worst)\n",
      "\n",
      "\n",
      "\n",
      "At C value: 1000.00000\n",
      "radius (mean)\n",
      "texture (mean)\n",
      "perimeter (mean)\n",
      "area (mean)\n",
      "smoothness (mean)\n",
      "compactness (mean)\n",
      "concavity (mean)\n",
      "concave points (mean)\n",
      "symmetry (mean)\n",
      "fractal dimension (mean)\n",
      "radius (standard error)\n",
      "texture (standard error)\n",
      "perimeter (standard error)\n",
      "area (standard error)\n",
      "concavity (standard error)\n",
      "concave points (standard error)\n",
      "symmetry (standard error)\n",
      "fractal dimension (standard error)\n",
      "radius (worst)\n",
      "texture (worst)\n",
      "perimeter (worst)\n",
      "area (worst)\n",
      "smoothness (worst)\n",
      "compactness (worst)\n",
      "concavity (worst)\n",
      "symmetry (worst)\n",
      "fractal dimension (worst)\n",
      "\n",
      "\n",
      "\n"
     ]
    }
   ],
   "source": [
    "for i in range(len(c_vals)):\n",
    "    non_z_indices = np.nonzero(coefDf.iloc[i])[0]\n",
    "    print('At C value: %.5f' % c_vals[i])\n",
    "    for j in non_z_indices:\n",
    "        print(params[j])\n",
    "    print('\\n\\n')"
   ]
  },
  {
   "cell_type": "markdown",
   "metadata": {},
   "source": [
    "# Using Random Forests"
   ]
  },
  {
   "cell_type": "code",
   "execution_count": 115,
   "metadata": {
    "collapsed": true
   },
   "outputs": [],
   "source": [
    "from sklearn.ensemble import RandomForestClassifier"
   ]
  },
  {
   "cell_type": "code",
   "execution_count": 116,
   "metadata": {
    "collapsed": true
   },
   "outputs": [],
   "source": [
    "forest = RandomForestClassifier(n_estimators=10000, random_state=0, n_jobs=-1)"
   ]
  },
  {
   "cell_type": "code",
   "execution_count": 118,
   "metadata": {
    "collapsed": false
   },
   "outputs": [
    {
     "name": "stderr",
     "output_type": "stream",
     "text": [
      "C:\\Users\\prasa\\Anaconda3\\lib\\site-packages\\ipykernel\\__main__.py:1: DataConversionWarning: A column-vector y was passed when a 1d array was expected. Please change the shape of y to (n_samples,), for example using ravel().\n",
      "  if __name__ == '__main__':\n"
     ]
    },
    {
     "data": {
      "text/plain": [
       "RandomForestClassifier(bootstrap=True, class_weight=None, criterion='gini',\n",
       "            max_depth=None, max_features='auto', max_leaf_nodes=None,\n",
       "            min_samples_leaf=1, min_samples_split=2,\n",
       "            min_weight_fraction_leaf=0.0, n_estimators=10000, n_jobs=-1,\n",
       "            oob_score=False, random_state=0, verbose=0, warm_start=False)"
      ]
     },
     "execution_count": 118,
     "metadata": {},
     "output_type": "execute_result"
    }
   ],
   "source": [
    "forest.fit(X, y)"
   ]
  },
  {
   "cell_type": "code",
   "execution_count": 123,
   "metadata": {
    "collapsed": false
   },
   "outputs": [
    {
     "data": {
      "text/plain": [
       "[('radius (mean)', 0.039029584935425417),\n",
       " ('texture (mean)', 0.014970065431811987),\n",
       " ('perimeter (mean)', 0.048837799241873446),\n",
       " ('area (mean)', 0.049691152561908883),\n",
       " ('smoothness (mean)', 0.0064152773220059814),\n",
       " ('compactness (mean)', 0.011328866321314161),\n",
       " ('concavity (mean)', 0.047278550554497541),\n",
       " ('concave points (mean)', 0.10445120041808989),\n",
       " ('symmetry (mean)', 0.0037385426048180612),\n",
       " ('fractal dimension (mean)', 0.0035790385376484979),\n",
       " ('radius (standard error)', 0.013618022053347809),\n",
       " ('texture (standard error)', 0.0047200950934817602),\n",
       " ('perimeter (standard error)', 0.012628351922253322),\n",
       " ('area (standard error)', 0.034952245749168886),\n",
       " ('smoothness (standard error)', 0.0042536512356264834),\n",
       " ('compactness (standard error)', 0.0044206761949335763),\n",
       " ('concavity (standard error)', 0.0063572851029166464),\n",
       " ('concave points (standard error)', 0.0049638164591667821),\n",
       " ('symmetry (standard error)', 0.0040197004026502293),\n",
       " ('fractal dimension (standard error)', 0.005072292905719933),\n",
       " ('radius (worst)', 0.11171200986817567),\n",
       " ('texture (worst)', 0.018628163167120855),\n",
       " ('perimeter (worst)', 0.1292701600539507),\n",
       " ('area (worst)', 0.1146798103854753),\n",
       " ('smoothness (worst)', 0.012882722985032286),\n",
       " ('compactness (worst)', 0.01564150170258281),\n",
       " ('concavity (worst)', 0.034418077534949999),\n",
       " ('concave points (worst)', 0.12122740672867303),\n",
       " ('symmetry (worst)', 0.010163327644354464),\n",
       " ('fractal dimension (worst)', 0.0070506048810246242)]"
      ]
     },
     "execution_count": 123,
     "metadata": {},
     "output_type": "execute_result"
    }
   ],
   "source": [
    "list(zip(params, forest.feature_importances_ ))"
   ]
  },
  {
   "cell_type": "code",
   "execution_count": 128,
   "metadata": {
    "collapsed": false
   },
   "outputs": [
    {
     "name": "stdout",
     "output_type": "stream",
     "text": [
      "perimeter (worst)  :  0.129270160054\n",
      "concave points (worst)  :  0.121227406729\n",
      "area (worst)  :  0.114679810385\n",
      "radius (worst)  :  0.111712009868\n",
      "concave points (mean)  :  0.104451200418\n",
      "area (mean)  :  0.0496911525619\n",
      "perimeter (mean)  :  0.0488377992419\n",
      "concavity (mean)  :  0.0472785505545\n",
      "radius (mean)  :  0.0390295849354\n",
      "area (standard error)  :  0.0349522457492\n",
      "concavity (worst)  :  0.0344180775349\n",
      "texture (worst)  :  0.0186281631671\n",
      "compactness (worst)  :  0.0156415017026\n",
      "texture (mean)  :  0.0149700654318\n",
      "radius (standard error)  :  0.0136180220533\n",
      "smoothness (worst)  :  0.012882722985\n",
      "perimeter (standard error)  :  0.0126283519223\n",
      "compactness (mean)  :  0.0113288663213\n",
      "symmetry (worst)  :  0.0101633276444\n",
      "fractal dimension (worst)  :  0.00705060488102\n",
      "smoothness (mean)  :  0.00641527732201\n",
      "concavity (standard error)  :  0.00635728510292\n",
      "fractal dimension (standard error)  :  0.00507229290572\n",
      "concave points (standard error)  :  0.00496381645917\n",
      "texture (standard error)  :  0.00472009509348\n",
      "compactness (standard error)  :  0.00442067619493\n",
      "smoothness (standard error)  :  0.00425365123563\n",
      "symmetry (standard error)  :  0.00401970040265\n",
      "symmetry (mean)  :  0.00373854260482\n",
      "fractal dimension (mean)  :  0.00357903853765\n"
     ]
    }
   ],
   "source": [
    "for imp in np.argsort(forest.feature_importances_)[::-1]:\n",
    "    print(params[imp] + '  :  ' + str(forest.feature_importances_[imp]))"
   ]
  },
  {
   "cell_type": "code",
   "execution_count": null,
   "metadata": {
    "collapsed": true
   },
   "outputs": [],
   "source": []
  }
 ],
 "metadata": {
  "anaconda-cloud": {},
  "kernelspec": {
   "display_name": "Python [conda root]",
   "language": "python",
   "name": "conda-root-py"
  },
  "language_info": {
   "codemirror_mode": {
    "name": "ipython",
    "version": 3
   },
   "file_extension": ".py",
   "mimetype": "text/x-python",
   "name": "python",
   "nbconvert_exporter": "python",
   "pygments_lexer": "ipython3",
   "version": "3.5.2"
  }
 },
 "nbformat": 4,
 "nbformat_minor": 1
}
